{
 "cells": [
  {
   "cell_type": "code",
   "execution_count": null,
   "metadata": {},
   "outputs": [],
   "source": [
    "import numpy as np\n",
    "import tensorflow as tf\n",
    "from transformers import BertTokenizer, TFBertModel, XLNetTokenizer, TFXLNetModel"
   ]
  },
  {
   "cell_type": "markdown",
   "metadata": {},
   "source": [
    "### 1. load model"
   ]
  },
  {
   "cell_type": "code",
   "execution_count": null,
   "metadata": {},
   "outputs": [],
   "source": [
    "# Blas GEMM launch failed .模型加载时报错，由于gpu显存不足，kill -9 pid\n",
    "# model = TFBertModel.from_pretrained('bert-base-uncased', output_hidden_states=True)\n",
    "# model = TFBertModel.from_pretrained('bert-base-uncased')\n",
    "model = TFXLNetModel.from_pretrained('xlnet-base-cased')"
   ]
  },
  {
   "cell_type": "markdown",
   "metadata": {},
   "source": [
    "### 2. load tokenizer"
   ]
  },
  {
   "cell_type": "code",
   "execution_count": null,
   "metadata": {},
   "outputs": [],
   "source": [
    "# tokenizer = BertTokenizer.from_pretrained('bert-base-uncased') \n",
    "tokenizer = XLNetTokenizer.from_pretrained('xlnet-base-cased')"
   ]
  },
  {
   "cell_type": "code",
   "execution_count": null,
   "metadata": {},
   "outputs": [],
   "source": [
    "# tokenizer.save_pretrained('save_model/bert_base_uncased_tokenizer/')\n",
    "tokenizer.save_pretrained('save_model/xlnet_base_cased_tokenizer/')"
   ]
  },
  {
   "cell_type": "markdown",
   "metadata": {},
   "source": [
    "### 3. convert text to ids"
   ]
  },
  {
   "cell_type": "code",
   "execution_count": null,
   "metadata": {},
   "outputs": [],
   "source": [
    "tokens_ids = tokenizer.encode('Hello, my dog is cute', add_special_tokens=True)\n",
    "tokens_ids"
   ]
  },
  {
   "cell_type": "code",
   "execution_count": null,
   "metadata": {},
   "outputs": [],
   "source": [
    "tf.constant(tokens_ids)"
   ]
  },
  {
   "cell_type": "code",
   "execution_count": null,
   "metadata": {},
   "outputs": [],
   "source": [
    "input_ids = tf.constant(tf.constant(tokens_ids))[None, :] # Batch size 1 \n",
    "input_ids"
   ]
  },
  {
   "cell_type": "markdown",
   "metadata": {},
   "source": [
    "### 4. run model"
   ]
  },
  {
   "cell_type": "markdown",
   "metadata": {},
   "source": [
    "[Model Returns](https://huggingface.co/transformers/model_doc/bert.html#tfbertmodel)\n",
    "\n",
    ":param :obj:`tuple:\n",
    "\n",
    "**last_hidden_state (tf.Tensor of shape (batch_size, sequence_length, hidden_size)):**\n",
    "\n",
    "Sequence of hidden-states at the output of the last layer of the model.\n",
    "\n",
    "**pooler_output (tf.Tensor of shape (batch_size, hidden_size)):**\n",
    "\n",
    "Last layer hidden-state of the first token of the sequence (classification token) further processed by a Linear layer and a Tanh activation function. The Linear layer weights are trained from the next sentence prediction (classification) objective during Bert pretraining. This output is usually not a good summary of the semantic content of the input, you’re often better with averaging or pooling the sequence of hidden-states for the whole input sequence.\n",
    "\n",
    "**hidden_states (tuple(tf.Tensor), optional, returned when config.output_hidden_states=True):**\n",
    "\n",
    "tuple of tf.Tensor (one for the output of the embeddings + one for the output of each layer) of shape (batch_size, sequence_length, hidden_size).\n",
    "\n",
    "Hidden-states of the model at the output of each layer plus the initial embedding outputs.\n",
    "\n",
    "**attentions (tuple(tf.Tensor), optional, returned when config.output_attentions=True):**\n",
    "\n",
    "tuple of tf.Tensor (one for each layer) of shape (batch_size, num_heads, sequence_length, sequence_length):\n",
    "\n",
    "Attentions weights after the attention softmax, used to compute the weighted average in the self-attention heads."
   ]
  },
  {
   "cell_type": "code",
   "execution_count": null,
   "metadata": {},
   "outputs": [],
   "source": [
    "# sequence_ouput = (batch_size, sequence_length, embedding_dim)\n",
    "# pooling_output = (batch_size, embedding_dim)\n",
    "outputs = model(input_ids)\n",
    "print(f'outputs type:{type(outputs)}\\noutputs len: {len(outputs)}')\n",
    "last_hidden_state = outputs[0]\n",
    "last_hidden_state"
   ]
  },
  {
   "cell_type": "code",
   "execution_count": null,
   "metadata": {},
   "outputs": [],
   "source": [
    "# 第0列\n",
    "col_0 = last_hidden_state[0][:, 0]\n",
    "print(np.max(col_0), np.mean(col_0))"
   ]
  },
  {
   "cell_type": "code",
   "execution_count": null,
   "metadata": {},
   "outputs": [],
   "source": [
    "max_pool = tf.keras.layers.GlobalMaxPooling1D()(last_hidden_state)\n",
    "mean_pool = tf.keras.layers.GlobalAveragePooling1D()(last_hidden_state)\n",
    "print(max_pool[0][0], mean_pool[0][0])"
   ]
  },
  {
   "cell_type": "code",
   "execution_count": null,
   "metadata": {},
   "outputs": [],
   "source": [
    "x = tf.keras.layers.Concatenate()([max_pool, mean_pool])\n",
    "x"
   ]
  },
  {
   "cell_type": "code",
   "execution_count": null,
   "metadata": {},
   "outputs": [],
   "source": [
    "tf.keras.layers.Dropout(0.2)(x)"
   ]
  },
  {
   "cell_type": "markdown",
   "metadata": {},
   "source": [
    "### 5. save model"
   ]
  },
  {
   "cell_type": "code",
   "execution_count": null,
   "metadata": {},
   "outputs": [],
   "source": [
    "# model.save_pretrained('save_model/bert_base_uncased_tf2_model/')\n",
    "model.save_pretrained('save_model/xlnet_base_cased_tf2_model/')"
   ]
  },
  {
   "cell_type": "code",
   "execution_count": null,
   "metadata": {},
   "outputs": [],
   "source": []
  }
 ],
 "metadata": {
  "kernelspec": {
   "display_name": "Python [conda env:tf2_0]",
   "language": "python",
   "name": "conda-env-tf2_0-py"
  },
  "language_info": {
   "codemirror_mode": {
    "name": "ipython",
    "version": 3
   },
   "file_extension": ".py",
   "mimetype": "text/x-python",
   "name": "python",
   "nbconvert_exporter": "python",
   "pygments_lexer": "ipython3",
   "version": "3.6.8"
  }
 },
 "nbformat": 4,
 "nbformat_minor": 2
}
